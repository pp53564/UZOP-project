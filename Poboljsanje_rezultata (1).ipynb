{
 "cells": [
  {
   "cell_type": "code",
   "execution_count": 2,
   "id": "6eff1021-81fd-461c-9806-b22499fc7aa5",
   "metadata": {},
   "outputs": [],
   "source": [
    "import pandas as pd\n",
    "import numpy as np\n",
    "from sklearn.ensemble import RandomForestClassifier, ExtraTreesClassifier\n",
    "from sklearn.metrics import accuracy_score, confusion_matrix, ConfusionMatrixDisplay\n",
    "from sklearn.model_selection import train_test_split\n",
    "from sklearn.preprocessing import OneHotEncoder, LabelEncoder\n",
    "from sklearn.model_selection import cross_val_score\n",
    "from sklearn.feature_selection import SelectKBest, mutual_info_classif\n",
    "from sklearn.tree import DecisionTreeClassifier\n",
    "from sklearn.preprocessing import LabelEncoder\n",
    "from sklearn.metrics import precision_score,recall_score,f1_score\n",
    "from sklearn.metrics import classification_report\n",
    "from sklearn.datasets import make_classification\n",
    "from sklearn.model_selection import train_test_split\n",
    "from sklearn.ensemble import RandomForestClassifier\n",
    "from sklearn.metrics import roc_curve, roc_auc_score\n",
    "import matplotlib.pyplot as plt\n",
    "from sklearn.svm import SVC\n",
    "from xgboost import XGBClassifier\n",
    "from sklearn.ensemble import VotingClassifier\n",
    "from sklearn.linear_model import LogisticRegression\n",
    "from sklearn.preprocessing import StandardScaler\n",
    "from sklearn.utils import resample\n",
    "from sklearn.model_selection import train_test_split, GridSearchCV\n",
    "from sklearn.ensemble import GradientBoostingClassifier\n",
    "import matplotlib.pyplot as plt\n",
    "import seaborn as sns\n",
    "from sklearn.model_selection import StratifiedKFold\n",
    "from sklearn.metrics import accuracy_score, precision_score, recall_score, f1_score, confusion_matrix, roc_curve, auc, RocCurveDisplay\n",
    "from sklearn.model_selection import StratifiedKFold, GridSearchCV\n",
    "from sklearn.metrics import make_scorer"
   ]
  },
  {
   "cell_type": "code",
   "execution_count": 3,
   "id": "5a5e3172-5f9a-4e65-ae32-dd74d88a5169",
   "metadata": {},
   "outputs": [],
   "source": [
    "#data = pd.read_csv(\"oasis_longitudinal.csv\")"
   ]
  },
  {
   "cell_type": "code",
   "execution_count": 4,
   "id": "3cca1641-a6cd-4824-93cf-74d645015ba7",
   "metadata": {},
   "outputs": [],
   "source": [
    "# ubaci srednju vrijednost godina tamo gdje nedostaje ta informacija\n",
    "#data.loc[data.SES.isna(),'SES'] = data.loc[:,'SES'].median()\n",
    "\n",
    "# izbaci zapise s nedostajućom vrijednosti značajke MMSE\n",
    "#data = data.loc[data.MMSE.notnull(), :]"
   ]
  },
  {
   "cell_type": "code",
   "execution_count": 5,
   "id": "3d8f80ee-8ff5-43a2-b6f5-999ff2148cbd",
   "metadata": {},
   "outputs": [
    {
     "data": {
      "text/html": [
       "<div>\n",
       "<style scoped>\n",
       "    .dataframe tbody tr th:only-of-type {\n",
       "        vertical-align: middle;\n",
       "    }\n",
       "\n",
       "    .dataframe tbody tr th {\n",
       "        vertical-align: top;\n",
       "    }\n",
       "\n",
       "    .dataframe thead th {\n",
       "        text-align: right;\n",
       "    }\n",
       "</style>\n",
       "<table border=\"1\" class=\"dataframe\">\n",
       "  <thead>\n",
       "    <tr style=\"text-align: right;\">\n",
       "      <th></th>\n",
       "      <th>Subject ID</th>\n",
       "      <th>Group</th>\n",
       "      <th>Visit</th>\n",
       "      <th>MR Delay</th>\n",
       "      <th>M/F</th>\n",
       "      <th>Age</th>\n",
       "      <th>EDUC</th>\n",
       "      <th>SES</th>\n",
       "      <th>MMSE</th>\n",
       "      <th>CDR</th>\n",
       "      <th>eTIV</th>\n",
       "      <th>nWBV</th>\n",
       "      <th>ASF</th>\n",
       "    </tr>\n",
       "  </thead>\n",
       "  <tbody>\n",
       "    <tr>\n",
       "      <th>0</th>\n",
       "      <td>OAS2_0001</td>\n",
       "      <td>Nondemented</td>\n",
       "      <td>1</td>\n",
       "      <td>0</td>\n",
       "      <td>M</td>\n",
       "      <td>87</td>\n",
       "      <td>14</td>\n",
       "      <td>2.000000</td>\n",
       "      <td>27.0</td>\n",
       "      <td>0.0</td>\n",
       "      <td>1987</td>\n",
       "      <td>0.696</td>\n",
       "      <td>0.883</td>\n",
       "    </tr>\n",
       "    <tr>\n",
       "      <th>1</th>\n",
       "      <td>OAS2_0001</td>\n",
       "      <td>Nondemented</td>\n",
       "      <td>2</td>\n",
       "      <td>457</td>\n",
       "      <td>M</td>\n",
       "      <td>88</td>\n",
       "      <td>14</td>\n",
       "      <td>2.000000</td>\n",
       "      <td>30.0</td>\n",
       "      <td>0.0</td>\n",
       "      <td>2004</td>\n",
       "      <td>0.681</td>\n",
       "      <td>0.876</td>\n",
       "    </tr>\n",
       "    <tr>\n",
       "      <th>2</th>\n",
       "      <td>OAS2_0002</td>\n",
       "      <td>Demented</td>\n",
       "      <td>1</td>\n",
       "      <td>0</td>\n",
       "      <td>M</td>\n",
       "      <td>75</td>\n",
       "      <td>12</td>\n",
       "      <td>2.460452</td>\n",
       "      <td>23.0</td>\n",
       "      <td>0.5</td>\n",
       "      <td>1678</td>\n",
       "      <td>0.736</td>\n",
       "      <td>1.046</td>\n",
       "    </tr>\n",
       "    <tr>\n",
       "      <th>3</th>\n",
       "      <td>OAS2_0002</td>\n",
       "      <td>Demented</td>\n",
       "      <td>2</td>\n",
       "      <td>560</td>\n",
       "      <td>M</td>\n",
       "      <td>76</td>\n",
       "      <td>12</td>\n",
       "      <td>2.460452</td>\n",
       "      <td>28.0</td>\n",
       "      <td>0.5</td>\n",
       "      <td>1738</td>\n",
       "      <td>0.713</td>\n",
       "      <td>1.010</td>\n",
       "    </tr>\n",
       "    <tr>\n",
       "      <th>4</th>\n",
       "      <td>OAS2_0002</td>\n",
       "      <td>Demented</td>\n",
       "      <td>3</td>\n",
       "      <td>1895</td>\n",
       "      <td>M</td>\n",
       "      <td>80</td>\n",
       "      <td>12</td>\n",
       "      <td>2.460452</td>\n",
       "      <td>22.0</td>\n",
       "      <td>0.5</td>\n",
       "      <td>1698</td>\n",
       "      <td>0.701</td>\n",
       "      <td>1.034</td>\n",
       "    </tr>\n",
       "    <tr>\n",
       "      <th>...</th>\n",
       "      <td>...</td>\n",
       "      <td>...</td>\n",
       "      <td>...</td>\n",
       "      <td>...</td>\n",
       "      <td>...</td>\n",
       "      <td>...</td>\n",
       "      <td>...</td>\n",
       "      <td>...</td>\n",
       "      <td>...</td>\n",
       "      <td>...</td>\n",
       "      <td>...</td>\n",
       "      <td>...</td>\n",
       "      <td>...</td>\n",
       "    </tr>\n",
       "    <tr>\n",
       "      <th>366</th>\n",
       "      <td>OAS2_0185</td>\n",
       "      <td>Demented</td>\n",
       "      <td>2</td>\n",
       "      <td>842</td>\n",
       "      <td>M</td>\n",
       "      <td>82</td>\n",
       "      <td>16</td>\n",
       "      <td>1.000000</td>\n",
       "      <td>28.0</td>\n",
       "      <td>0.5</td>\n",
       "      <td>1693</td>\n",
       "      <td>0.694</td>\n",
       "      <td>1.037</td>\n",
       "    </tr>\n",
       "    <tr>\n",
       "      <th>367</th>\n",
       "      <td>OAS2_0185</td>\n",
       "      <td>Demented</td>\n",
       "      <td>3</td>\n",
       "      <td>2297</td>\n",
       "      <td>M</td>\n",
       "      <td>86</td>\n",
       "      <td>16</td>\n",
       "      <td>1.000000</td>\n",
       "      <td>26.0</td>\n",
       "      <td>0.5</td>\n",
       "      <td>1688</td>\n",
       "      <td>0.675</td>\n",
       "      <td>1.040</td>\n",
       "    </tr>\n",
       "    <tr>\n",
       "      <th>368</th>\n",
       "      <td>OAS2_0186</td>\n",
       "      <td>Nondemented</td>\n",
       "      <td>1</td>\n",
       "      <td>0</td>\n",
       "      <td>F</td>\n",
       "      <td>61</td>\n",
       "      <td>13</td>\n",
       "      <td>2.000000</td>\n",
       "      <td>30.0</td>\n",
       "      <td>0.0</td>\n",
       "      <td>1319</td>\n",
       "      <td>0.801</td>\n",
       "      <td>1.331</td>\n",
       "    </tr>\n",
       "    <tr>\n",
       "      <th>369</th>\n",
       "      <td>OAS2_0186</td>\n",
       "      <td>Nondemented</td>\n",
       "      <td>2</td>\n",
       "      <td>763</td>\n",
       "      <td>F</td>\n",
       "      <td>63</td>\n",
       "      <td>13</td>\n",
       "      <td>2.000000</td>\n",
       "      <td>30.0</td>\n",
       "      <td>0.0</td>\n",
       "      <td>1327</td>\n",
       "      <td>0.796</td>\n",
       "      <td>1.323</td>\n",
       "    </tr>\n",
       "    <tr>\n",
       "      <th>370</th>\n",
       "      <td>OAS2_0186</td>\n",
       "      <td>Nondemented</td>\n",
       "      <td>3</td>\n",
       "      <td>1608</td>\n",
       "      <td>F</td>\n",
       "      <td>65</td>\n",
       "      <td>13</td>\n",
       "      <td>2.000000</td>\n",
       "      <td>30.0</td>\n",
       "      <td>0.0</td>\n",
       "      <td>1333</td>\n",
       "      <td>0.801</td>\n",
       "      <td>1.317</td>\n",
       "    </tr>\n",
       "  </tbody>\n",
       "</table>\n",
       "<p>371 rows × 13 columns</p>\n",
       "</div>"
      ],
      "text/plain": [
       "    Subject ID        Group  Visit  MR Delay M/F  Age  EDUC       SES  MMSE  \\\n",
       "0    OAS2_0001  Nondemented      1         0   M   87    14  2.000000  27.0   \n",
       "1    OAS2_0001  Nondemented      2       457   M   88    14  2.000000  30.0   \n",
       "2    OAS2_0002     Demented      1         0   M   75    12  2.460452  23.0   \n",
       "3    OAS2_0002     Demented      2       560   M   76    12  2.460452  28.0   \n",
       "4    OAS2_0002     Demented      3      1895   M   80    12  2.460452  22.0   \n",
       "..         ...          ...    ...       ...  ..  ...   ...       ...   ...   \n",
       "366  OAS2_0185     Demented      2       842   M   82    16  1.000000  28.0   \n",
       "367  OAS2_0185     Demented      3      2297   M   86    16  1.000000  26.0   \n",
       "368  OAS2_0186  Nondemented      1         0   F   61    13  2.000000  30.0   \n",
       "369  OAS2_0186  Nondemented      2       763   F   63    13  2.000000  30.0   \n",
       "370  OAS2_0186  Nondemented      3      1608   F   65    13  2.000000  30.0   \n",
       "\n",
       "     CDR  eTIV   nWBV    ASF  \n",
       "0    0.0  1987  0.696  0.883  \n",
       "1    0.0  2004  0.681  0.876  \n",
       "2    0.5  1678  0.736  1.046  \n",
       "3    0.5  1738  0.713  1.010  \n",
       "4    0.5  1698  0.701  1.034  \n",
       "..   ...   ...    ...    ...  \n",
       "366  0.5  1693  0.694  1.037  \n",
       "367  0.5  1688  0.675  1.040  \n",
       "368  0.0  1319  0.801  1.331  \n",
       "369  0.0  1327  0.796  1.323  \n",
       "370  0.0  1333  0.801  1.317  \n",
       "\n",
       "[371 rows x 13 columns]"
      ]
     },
     "execution_count": 5,
     "metadata": {},
     "output_type": "execute_result"
    }
   ],
   "source": [
    "data = pd.read_csv(\"obradeni_podaci.csv\")\n",
    "data"
   ]
  },
  {
   "cell_type": "code",
   "execution_count": 6,
   "id": "93b6b8e8-9df1-4acd-a85b-ad5c693b5aa6",
   "metadata": {},
   "outputs": [],
   "source": [
    "data = data.groupby('Subject ID').first().reset_index()"
   ]
  },
  {
   "cell_type": "code",
   "execution_count": 7,
   "id": "4e828171-3e2c-4931-8bc9-8132b6324f59",
   "metadata": {},
   "outputs": [],
   "source": [
    "#NOVE ZNAČAJKE\n",
    "data['eTIV_nWBV_Ratio'] = data['eTIV'] / data['nWBV']\n",
    "data['Education_MMSE'] = data['EDUC'] * data['MMSE']\n",
    "data['BrainVolume_Education_Ratio'] = data['eTIV'] / data['EDUC']\n",
    "data['EDUC_nWBV'] = data['EDUC'] / data['nWBV']"
   ]
  },
  {
   "cell_type": "code",
   "execution_count": 8,
   "id": "5762f6c0-7d25-45c2-860c-bcb52092fd54",
   "metadata": {},
   "outputs": [
    {
     "data": {
      "text/plain": [
       "Subject ID                     150\n",
       "Group                            3\n",
       "Visit                            1\n",
       "MR Delay                         1\n",
       "M/F                              2\n",
       "Age                             34\n",
       "EDUC                            12\n",
       "SES                              6\n",
       "MMSE                            13\n",
       "CDR                              3\n",
       "eTIV                           131\n",
       "nWBV                            90\n",
       "ASF                            129\n",
       "eTIV_nWBV_Ratio                149\n",
       "Education_MMSE                  55\n",
       "BrainVolume_Education_Ratio    143\n",
       "EDUC_nWBV                      138\n",
       "dtype: int64"
      ]
     },
     "execution_count": 8,
     "metadata": {},
     "output_type": "execute_result"
    }
   ],
   "source": [
    "data.nunique()"
   ]
  },
  {
   "cell_type": "code",
   "execution_count": 9,
   "id": "fbc29ebd-71b6-4432-ae05-052a4801acce",
   "metadata": {},
   "outputs": [],
   "source": [
    "data['M/F'] = data['M/F'].map({'M': 0, 'F': 1})"
   ]
  },
  {
   "cell_type": "code",
   "execution_count": 36,
   "id": "d940ee24-7204-46ea-a8f0-f9b6e31dcbf6",
   "metadata": {},
   "outputs": [],
   "source": [
    "data['CDR'] = data['CDR'].replace({0.5: 1})  #sada imamo samo dvije klase\n",
    "selected_features = ['M/F', 'Age', 'EDUC', 'SES', 'MMSE', 'eTIV', 'nWBV', 'ASF','eTIV_nWBV_Ratio']\n",
    "#scaler = StandardScaler()\n",
    "\n",
    "# Dodajte normalizirane značajke u vaš DataFrame\n",
    "#data[selected_features] = scaler.fit_transform(data[selected_features])\n",
    "X = data[selected_features]  # Odabir značajki za X\n",
    "y = data['CDR'] # Varijabla koju želim predviđati\n"
   ]
  },
  {
   "cell_type": "code",
   "execution_count": 37,
   "id": "856e9c90-db24-4e5c-b074-5521dede8074",
   "metadata": {},
   "outputs": [
    {
     "data": {
      "text/html": [
       "<div>\n",
       "<style scoped>\n",
       "    .dataframe tbody tr th:only-of-type {\n",
       "        vertical-align: middle;\n",
       "    }\n",
       "\n",
       "    .dataframe tbody tr th {\n",
       "        vertical-align: top;\n",
       "    }\n",
       "\n",
       "    .dataframe thead th {\n",
       "        text-align: right;\n",
       "    }\n",
       "</style>\n",
       "<table border=\"1\" class=\"dataframe\">\n",
       "  <thead>\n",
       "    <tr style=\"text-align: right;\">\n",
       "      <th></th>\n",
       "      <th>M/F</th>\n",
       "      <th>Age</th>\n",
       "      <th>EDUC</th>\n",
       "      <th>SES</th>\n",
       "      <th>MMSE</th>\n",
       "      <th>eTIV</th>\n",
       "      <th>nWBV</th>\n",
       "      <th>ASF</th>\n",
       "      <th>eTIV_nWBV_Ratio</th>\n",
       "    </tr>\n",
       "  </thead>\n",
       "  <tbody>\n",
       "    <tr>\n",
       "      <th>0</th>\n",
       "      <td>0</td>\n",
       "      <td>87</td>\n",
       "      <td>14</td>\n",
       "      <td>2.000000</td>\n",
       "      <td>27.0</td>\n",
       "      <td>1987</td>\n",
       "      <td>0.696</td>\n",
       "      <td>0.883</td>\n",
       "      <td>2854.885057</td>\n",
       "    </tr>\n",
       "    <tr>\n",
       "      <th>1</th>\n",
       "      <td>0</td>\n",
       "      <td>75</td>\n",
       "      <td>12</td>\n",
       "      <td>2.460452</td>\n",
       "      <td>23.0</td>\n",
       "      <td>1678</td>\n",
       "      <td>0.736</td>\n",
       "      <td>1.046</td>\n",
       "      <td>2279.891304</td>\n",
       "    </tr>\n",
       "    <tr>\n",
       "      <th>2</th>\n",
       "      <td>1</td>\n",
       "      <td>88</td>\n",
       "      <td>18</td>\n",
       "      <td>3.000000</td>\n",
       "      <td>28.0</td>\n",
       "      <td>1215</td>\n",
       "      <td>0.710</td>\n",
       "      <td>1.444</td>\n",
       "      <td>1711.267606</td>\n",
       "    </tr>\n",
       "    <tr>\n",
       "      <th>3</th>\n",
       "      <td>0</td>\n",
       "      <td>80</td>\n",
       "      <td>12</td>\n",
       "      <td>4.000000</td>\n",
       "      <td>28.0</td>\n",
       "      <td>1689</td>\n",
       "      <td>0.712</td>\n",
       "      <td>1.039</td>\n",
       "      <td>2372.191011</td>\n",
       "    </tr>\n",
       "    <tr>\n",
       "      <th>4</th>\n",
       "      <td>0</td>\n",
       "      <td>71</td>\n",
       "      <td>16</td>\n",
       "      <td>2.460452</td>\n",
       "      <td>28.0</td>\n",
       "      <td>1357</td>\n",
       "      <td>0.748</td>\n",
       "      <td>1.293</td>\n",
       "      <td>1814.171123</td>\n",
       "    </tr>\n",
       "    <tr>\n",
       "      <th>...</th>\n",
       "      <td>...</td>\n",
       "      <td>...</td>\n",
       "      <td>...</td>\n",
       "      <td>...</td>\n",
       "      <td>...</td>\n",
       "      <td>...</td>\n",
       "      <td>...</td>\n",
       "      <td>...</td>\n",
       "      <td>...</td>\n",
       "    </tr>\n",
       "    <tr>\n",
       "      <th>145</th>\n",
       "      <td>0</td>\n",
       "      <td>73</td>\n",
       "      <td>12</td>\n",
       "      <td>2.460452</td>\n",
       "      <td>23.0</td>\n",
       "      <td>1661</td>\n",
       "      <td>0.698</td>\n",
       "      <td>1.056</td>\n",
       "      <td>2379.656160</td>\n",
       "    </tr>\n",
       "    <tr>\n",
       "      <th>146</th>\n",
       "      <td>1</td>\n",
       "      <td>66</td>\n",
       "      <td>13</td>\n",
       "      <td>2.000000</td>\n",
       "      <td>30.0</td>\n",
       "      <td>1495</td>\n",
       "      <td>0.746</td>\n",
       "      <td>1.174</td>\n",
       "      <td>2004.021448</td>\n",
       "    </tr>\n",
       "    <tr>\n",
       "      <th>147</th>\n",
       "      <td>1</td>\n",
       "      <td>72</td>\n",
       "      <td>16</td>\n",
       "      <td>3.000000</td>\n",
       "      <td>24.0</td>\n",
       "      <td>1354</td>\n",
       "      <td>0.733</td>\n",
       "      <td>1.296</td>\n",
       "      <td>1847.203274</td>\n",
       "    </tr>\n",
       "    <tr>\n",
       "      <th>148</th>\n",
       "      <td>0</td>\n",
       "      <td>80</td>\n",
       "      <td>16</td>\n",
       "      <td>1.000000</td>\n",
       "      <td>28.0</td>\n",
       "      <td>1704</td>\n",
       "      <td>0.711</td>\n",
       "      <td>1.030</td>\n",
       "      <td>2396.624473</td>\n",
       "    </tr>\n",
       "    <tr>\n",
       "      <th>149</th>\n",
       "      <td>1</td>\n",
       "      <td>61</td>\n",
       "      <td>13</td>\n",
       "      <td>2.000000</td>\n",
       "      <td>30.0</td>\n",
       "      <td>1319</td>\n",
       "      <td>0.801</td>\n",
       "      <td>1.331</td>\n",
       "      <td>1646.691635</td>\n",
       "    </tr>\n",
       "  </tbody>\n",
       "</table>\n",
       "<p>150 rows × 9 columns</p>\n",
       "</div>"
      ],
      "text/plain": [
       "     M/F  Age  EDUC       SES  MMSE  eTIV   nWBV    ASF  eTIV_nWBV_Ratio\n",
       "0      0   87    14  2.000000  27.0  1987  0.696  0.883      2854.885057\n",
       "1      0   75    12  2.460452  23.0  1678  0.736  1.046      2279.891304\n",
       "2      1   88    18  3.000000  28.0  1215  0.710  1.444      1711.267606\n",
       "3      0   80    12  4.000000  28.0  1689  0.712  1.039      2372.191011\n",
       "4      0   71    16  2.460452  28.0  1357  0.748  1.293      1814.171123\n",
       "..   ...  ...   ...       ...   ...   ...    ...    ...              ...\n",
       "145    0   73    12  2.460452  23.0  1661  0.698  1.056      2379.656160\n",
       "146    1   66    13  2.000000  30.0  1495  0.746  1.174      2004.021448\n",
       "147    1   72    16  3.000000  24.0  1354  0.733  1.296      1847.203274\n",
       "148    0   80    16  1.000000  28.0  1704  0.711  1.030      2396.624473\n",
       "149    1   61    13  2.000000  30.0  1319  0.801  1.331      1646.691635\n",
       "\n",
       "[150 rows x 9 columns]"
      ]
     },
     "execution_count": 37,
     "metadata": {},
     "output_type": "execute_result"
    }
   ],
   "source": [
    "X"
   ]
  },
  {
   "cell_type": "code",
   "execution_count": 38,
   "id": "bbff92b5-1861-4696-a52a-b340f4461a06",
   "metadata": {},
   "outputs": [],
   "source": [
    "# Normalizacija/standardizacija značajki\n",
    "#scaler = StandardScaler()\n",
    "#X_scaled = scaler.fit_transform(X)"
   ]
  },
  {
   "cell_type": "code",
   "execution_count": 39,
   "id": "f5690b22-434c-4ef1-9835-5d5962e6b87f",
   "metadata": {},
   "outputs": [],
   "source": [
    "X_train, X_test, y_train, y_test = train_test_split(X,y, test_size=0.2, random_state=42)\n",
    "X_train = X_train.values\n",
    "X_test = X_test.values\n",
    "y_train = y_train.values\n",
    "y_test = y_test.values"
   ]
  },
  {
   "cell_type": "markdown",
   "id": "2e14d87e-7834-4e9e-9f8d-e222f0f3a051",
   "metadata": {},
   "source": [
    "MIA KOD-RANDOM FOREST"
   ]
  },
  {
   "cell_type": "code",
   "execution_count": 40,
   "id": "3ef329fe-c225-4738-8875-29c649b26976",
   "metadata": {},
   "outputs": [],
   "source": [
    "def cross_check_RF(X_train, X_test, y_train, y_test):\n",
    "    train_error = []\n",
    "    test_error = []\n",
    "    best = 1\n",
    "    best_depth = 0\n",
    "    for depth in range(1, 16):\n",
    "        model_random_forest = RandomForestClassifier(max_depth=depth).fit(X_train, y_train.reshape(1, -1).flatten())\n",
    "        train_err = 1-accuracy_score(y_train.reshape(1, -1).flatten(), model_random_forest.predict(X_train))\n",
    "        test_err = 1-accuracy_score(y_test.reshape(1, -1).flatten(), model_random_forest.predict(X_test))\n",
    "        train_error.append(train_err)\n",
    "        test_error.append(test_err)\n",
    "        \n",
    "        if test_err < best:\n",
    "            best_depth = depth\n",
    "        \n",
    "    return train_error, test_error, best_depth"
   ]
  },
  {
   "cell_type": "code",
   "execution_count": 41,
   "id": "95fdfca7-c5a1-4e61-a3d8-cd3347adfc64",
   "metadata": {},
   "outputs": [
    {
     "name": "stdout",
     "output_type": "stream",
     "text": [
      "15\n"
     ]
    },
    {
     "data": {
      "text/plain": [
       "<matplotlib.legend.Legend at 0x10458880cd0>"
      ]
     },
     "execution_count": 41,
     "metadata": {},
     "output_type": "execute_result"
    },
    {
     "data": {
      "image/png": "[encoded data removed]",
      "text/plain": [
       "<Figure size 640x480 with 1 Axes>"
      ]
     },
     "metadata": {},
     "output_type": "display_data"
    }
   ],
   "source": [
    "train_err, test_err, best_depth = cross_check_RF(X_train, X_test, y_train, y_test)\n",
    "print(best_depth)\n",
    "\n",
    "plt.plot(range(1, 16), train_err, label=f'train error')\n",
    "plt.plot(range(1, 16), test_err, label=f'test error')\n",
    "plt.title(\"Optimizacija hiperparametara RF\")\n",
    "plt.legend(loc = 'best')"
   ]
  },
  {
   "cell_type": "code",
   "execution_count": 42,
   "id": "4d523010-c3b2-4f82-bf40-e405d7292d36",
   "metadata": {},
   "outputs": [],
   "source": [
    "def train_rand_forest(X_train, X_test, y_train, y_test, max_depth=None, num_of_classes=2):\n",
    "    \n",
    "    model = RandomForestClassifier(max_depth=max_depth).fit(X_train, y_train)\n",
    "    \n",
    "    cv = StratifiedKFold(n_splits=10, shuffle=True, random_state=42)\n",
    "    \n",
    "    # Cross-validation\n",
    "    cv_results = cross_val_score(model, X, y, cv=cv, scoring='accuracy')\n",
    "    print(f'Cross-Validation Accuracy (Random Forest): {np.mean(cv_results)}')\n",
    "\n",
    "    acc = accuracy_score(y_test, model.predict(X_test))\n",
    "    print(f'accuracy: {acc}')\n",
    "\n",
    "    conf_matrix = confusion_matrix(y_test, model.predict(X_test))\n",
    "    print(f'confusion matrix:\\n{conf_matrix}\\n')\n",
    "    \n",
    "    # ROC Curve for binary classification\n",
    "    if len(set(y_test)) == 2:\n",
    "        fpr, tpr, _ = roc_curve(y_test, model.predict_proba(X_test)[:, 1])\n",
    "        roc_auc = auc(fpr, tpr)\n",
    "        display = RocCurveDisplay(fpr=fpr, tpr=tpr, roc_auc=roc_auc)\n",
    "        display.plot()\n",
    "        plt.show()"
   ]
  },
  {
   "cell_type": "code",
   "execution_count": 43,
   "id": "c0b74822-038c-445c-9d27-c9dd3f923e3d",
   "metadata": {},
   "outputs": [
    {
     "name": "stdout",
     "output_type": "stream",
     "text": [
      "Cross-Validation Accuracy (Random Forest): 0.8666666666666666\n",
      "accuracy: 0.8333333333333334\n",
      "confusion matrix:\n",
      "[[17  5]\n",
      " [ 0  8]]\n",
      "\n"
     ]
    },
    {
     "data": {
      "image/png": "[encoded data removed]",
      "text/plain": [
       "<Figure size 640x480 with 1 Axes>"
      ]
     },
     "metadata": {},
     "output_type": "display_data"
    }
   ],
   "source": [
    "train_rand_forest(X_train, X_test, y_train.ravel(), y_test, max_depth=best_depth)"
   ]
  },
  {
   "cell_type": "code",
   "execution_count": 44,
   "id": "cad0915b-abae-4aaf-a6ed-04747aa6dc2f",
   "metadata": {},
   "outputs": [
    {
     "name": "stdout",
     "output_type": "stream",
     "text": [
      "Accuracy: 0.9\n",
      "F1_score:  0.9\n",
      "Precision :  0.9\n",
      "Recall :  0.9\n"
     ]
    }
   ],
   "source": [
    "#PETRIN KOD:\n",
    "rf_classifier = RandomForestClassifier(\n",
    "    n_estimators=100,  # Number of trees\n",
    "    max_depth=None,  # Max depth of trees\n",
    "    min_samples_leaf=2,  # Minimum samples per leaf\n",
    "    max_features='sqrt',  # Number of features to consider at each split\n",
    "    random_state=42  # Setting a random state for reproducibility\n",
    ")\n",
    "\n",
    "\n",
    "# Fit the model on your training data\n",
    "rf_classifier.fit(X_train, y_train)\n",
    "predictions_rf = rf_classifier.predict(X_test)\n",
    "\n",
    "\n",
    "accuracy_rf = rf_classifier.score(X_test, y_test)\n",
    "print(f\"Accuracy: {accuracy_rf}\")\n",
    "f1_rf = f1_score(y_test,predictions_rf,average='micro')\n",
    "precision_rf = precision_score(y_test,predictions_rf,average='micro')\n",
    "recall_rf = recall_score(y_test, predictions_rf,average='micro')\n",
    "print(\"F1_score: \",f1_rf)\n",
    "print(\"Precision : \",precision_rf)\n",
    "print(\"Recall : \",recall_rf)"
   ]
  },
  {
   "cell_type": "markdown",
   "id": "c5a75b45-bbe0-493d-9065-51d6e7cb03c6",
   "metadata": {},
   "source": [
    "SVM-PETRA"
   ]
  },
  {
   "cell_type": "code",
   "execution_count": 45,
   "id": "b84878ec-e6c2-4711-9a3e-7a35903f6410",
   "metadata": {},
   "outputs": [
    {
     "name": "stdout",
     "output_type": "stream",
     "text": [
      "Accuracy: 0.8\n"
     ]
    }
   ],
   "source": [
    "svm_classifier = SVC(kernel='linear', probability=True)  # You can specify the kernel type ('linear', 'rbf', 'poly', etc.)\n",
    "svm_classifier.fit(X_train, y_train)\n",
    "# Making predictions on the test set using the best estimator\n",
    "y_predict_svm = svm_classifier.predict(X_test)\n",
    "\n",
    "# Calculating accuracy\n",
    "accuracy_svm = accuracy_score(y_test, y_predict_svm)\n",
    "print(f\"Accuracy: {accuracy_svm}\")"
   ]
  },
  {
   "cell_type": "code",
   "execution_count": null,
   "id": "0f633c0f-8a48-48dc-b735-a2d621714544",
   "metadata": {},
   "outputs": [],
   "source": []
  },
  {
   "cell_type": "markdown",
   "id": "8ace0dda-8a43-4b02-8cbe-f7fc8863e229",
   "metadata": {},
   "source": [
    "SVM-MIA"
   ]
  },
  {
   "cell_type": "markdown",
   "id": "6a7a1f99-e298-4149-94ef-6008ab21b4a0",
   "metadata": {},
   "source": [
    "param_grid = {'C': [0.1, 1, 10, 100], 'kernel': ['linear', 'rbf', 'poly']}\n",
    "grid_search = GridSearchCV(SVC(), param_grid, cv=10, scoring='accuracy')\n",
    "grid_search.fit(X_train, y_train)\n",
    "best_params = grid_search.best_params_\n",
    "print(best_params)"
   ]
  },
  {
   "cell_type": "code",
   "execution_count": 46,
   "id": "4bc4857e-82fd-408d-b761-40ee099b9f3c",
   "metadata": {},
   "outputs": [],
   "source": [
    "\n",
    "def cross_check_SVM(X_train, X_test, y_train, y_test):\n",
    "    train_error = []\n",
    "    test_error = []\n",
    "    best = 1\n",
    "    best_depth = 0\n",
    "    for depth in range(1, 16):\n",
    "        model_random_forest = RandomForestClassifier(max_depth=depth).fit(X_train, y_train.reshape(1, -1).flatten())\n",
    "        train_err = 1-accuracy_score(y_train.reshape(1, -1).flatten(), model_random_forest.predict(X_train))\n",
    "        test_err = 1-accuracy_score(y_test.reshape(1, -1).flatten(), model_random_forest.predict(X_test))\n",
    "        train_error.append(train_err)\n",
    "        test_error.append(test_err)\n",
    "        \n",
    "        if test_err < best:\n",
    "            best_depth = depth\n",
    "        \n",
    "    return train_error, test_error, best_depth\n",
    "\n",
    "def train_svm(X_train, X_test, y_train, y_test, kernel=\"linear\", C=0.1, num_folds=10):\n",
    "    model = SVC(kernel=kernel, C=C, probability=True).fit(X_train, y_train)\n",
    "    \n",
    "    cv = StratifiedKFold(n_splits=num_folds, shuffle=True, random_state=42)\n",
    "    \n",
    "    # Cross-validation\n",
    "    cv_results = cross_val_score(model, X_train, y_train, cv=cv, scoring='accuracy')\n",
    "    print(f'Cross-Validation Accuracy (SVM): {np.mean(cv_results)}')\n",
    "\n",
    "    acc = accuracy_score(y_test, model.predict(X_test))\n",
    "    print(f'Accuracy (SVM): {acc}')\n",
    "\n",
    "    conf_matrix = confusion_matrix(y_test, model.predict(X_test))\n",
    "    print(f'Confusion Matrix (SVM):\\n{conf_matrix}\\n')\n",
    "\n",
    "    # ROC Curve for binary classification\n",
    "    if len(set(y_test)) == 2:\n",
    "        fpr, tpr, _ = roc_curve(y_test, model.predict_proba(X_test)[:, 1])\n",
    "        roc_auc = auc(fpr, tpr)\n",
    "        display = RocCurveDisplay(fpr=fpr, tpr=tpr, roc_auc=roc_auc)\n",
    "        display.plot()\n",
    "        plt.show()\n"
   ]
  },
  {
   "cell_type": "code",
   "execution_count": 47,
   "id": "198c5515-4dac-47c2-9c80-3875e8d38100",
   "metadata": {},
   "outputs": [
    {
     "name": "stdout",
     "output_type": "stream",
     "text": [
      "Cross-Validation Accuracy (SVM): 0.8083333333333332\n",
      "Accuracy (SVM): 0.9333333333333333\n",
      "Confusion Matrix (SVM):\n",
      "[[20  2]\n",
      " [ 0  8]]\n",
      "\n"
     ]
    },
    {
     "data": {
      "image/png": "[encoded data removed]",
      "text/plain": [
       "<Figure size 640x480 with 1 Axes>"
      ]
     },
     "metadata": {},
     "output_type": "display_data"
    }
   ],
   "source": [
    "train_svm(X_train, X_test, y_train, y_test)"
   ]
  },
  {
   "cell_type": "markdown",
   "id": "01859213-6020-4b58-8133-63cf049061a7",
   "metadata": {},
   "source": [
    "VOTING-MIA"
   ]
  },
  {
   "cell_type": "code",
   "execution_count": 48,
   "id": "517d8d93-5fec-4976-b178-c77bddcfd1a4",
   "metadata": {},
   "outputs": [],
   "source": [
    "def train_voting(X_train, X_test, y_train, y_test, num_folds=10):\n",
    "    rf_model = RandomForestClassifier(max_depth=10)\n",
    "    svm_model = SVC(kernel=\"linear\", C=0.1, probability=True)\n",
    "    xgb_model = XGBClassifier()\n",
    "    df_model = DecisionTreeClassifier()\n",
    "\n",
    "    voting_model = VotingClassifier(estimators=[\n",
    "        ('rf', rf_model),\n",
    "        ('svm', svm_model),\n",
    "        ('xgb', xgb_model),\n",
    "        ('df', df_model )\n",
    "    ], voting='soft').fit(X_train, y_train)\n",
    "    \n",
    "    cv = StratifiedKFold(n_splits=num_folds, shuffle=True, random_state=42)\n",
    "    \n",
    "    # Cross-validation\n",
    "    cv_results = cross_val_score(voting_model, X_train, y_train, cv=cv, scoring='accuracy')\n",
    "    print(f'Cross-Validation Accuracy (Voting): {np.mean(cv_results)}')\n",
    "\n",
    "    acc = accuracy_score(y_test, voting_model.predict(X_test))\n",
    "    print(f'Accuracy (Voting): {acc}')\n",
    "\n",
    "    conf_matrix = confusion_matrix(y_test, voting_model.predict(X_test))\n",
    "    print(f'Confusion Matrix (Voting):\\n{conf_matrix}\\n')\n",
    "\n",
    "    # ROC Curve for binary classification\n",
    "    if len(set(y_test)) == 2:\n",
    "        fpr, tpr, _ = roc_curve(y_test, voting_model.predict_proba(X_test)[:, 1])\n",
    "        roc_auc = auc(fpr, tpr)\n",
    "        display = RocCurveDisplay(fpr=fpr, tpr=tpr, roc_auc=roc_auc)\n",
    "        display.plot()\n",
    "        plt.show()"
   ]
  },
  {
   "cell_type": "code",
   "execution_count": 49,
   "id": "18bcaf05-982b-4b3b-befc-3117ef7df55c",
   "metadata": {},
   "outputs": [
    {
     "name": "stdout",
     "output_type": "stream",
     "text": [
      "Cross-Validation Accuracy (Voting): 0.8\n",
      "Accuracy (Voting): 0.9\n",
      "Confusion Matrix (Voting):\n",
      "[[19  3]\n",
      " [ 0  8]]\n",
      "\n"
     ]
    },
    {
     "data": {
      "image/png": "[encoded data removed]",
      "text/plain": [
       "<Figure size 640x480 with 1 Axes>"
      ]
     },
     "metadata": {},
     "output_type": "display_data"
    }
   ],
   "source": [
    "train_voting(X_train, X_test, y_train, y_test)"
   ]
  },
  {
   "cell_type": "markdown",
   "id": "2c7fcf3c-aef2-4121-ab11-17ed86c73704",
   "metadata": {},
   "source": [
    "XGBOOST MIA"
   ]
  },
  {
   "cell_type": "code",
   "execution_count": 50,
   "id": "7e1ef84c-cffb-417f-b731-c1f5535c0a9b",
   "metadata": {},
   "outputs": [
    {
     "name": "stdout",
     "output_type": "stream",
     "text": [
      "Cross-Validation Accuracy (XGBoost): 0.8166666666666668\n",
      "Accuracy (XGBoost): 0.8333333333333334\n",
      "Confusion Matrix (XGBoost):\n",
      "[[17  5]\n",
      " [ 0  8]]\n",
      "\n"
     ]
    },
    {
     "data": {
      "image/png": "[encoded data removed]",
      "text/plain": [
       "<Figure size 640x480 with 1 Axes>"
      ]
     },
     "metadata": {},
     "output_type": "display_data"
    }
   ],
   "source": [
    "def train_xgboost(X_train, X_test, y_train, y_test, num_folds=10):\n",
    "    model = XGBClassifier().fit(X_train, y_train)\n",
    "    \n",
    "    cv = StratifiedKFold(n_splits=num_folds, shuffle=True, random_state=42)\n",
    "    \n",
    "    # Cross-validation\n",
    "    cv_results = cross_val_score(model, X_train, y_train, cv=cv, scoring='accuracy')\n",
    "    print(f'Cross-Validation Accuracy (XGBoost): {np.mean(cv_results)}')\n",
    "\n",
    "    acc = accuracy_score(y_test, model.predict(X_test))\n",
    "    print(f'Accuracy (XGBoost): {acc}')\n",
    "\n",
    "    conf_matrix = confusion_matrix(y_test, model.predict(X_test))\n",
    "    print(f'Confusion Matrix (XGBoost):\\n{conf_matrix}\\n')\n",
    "\n",
    "    # ROC Curve for binary classification\n",
    "    if len(set(y_test)) == 2:\n",
    "        fpr, tpr, _ = roc_curve(y_test, model.predict_proba(X_test)[:, 1])\n",
    "        roc_auc = auc(fpr, tpr)\n",
    "        display = RocCurveDisplay(fpr=fpr, tpr=tpr, roc_auc=roc_auc)\n",
    "        display.plot()\n",
    "        plt.show()\n",
    "train_xgboost(X_train, X_test, y_train, y_test)"
   ]
  },
  {
   "cell_type": "code",
   "execution_count": null,
   "id": "9132833d-6f38-4e63-989e-5825395d98b8",
   "metadata": {},
   "outputs": [],
   "source": [
    "from sklearn.ensemble import RandomForestClassifier, GradientBoostingClassifier, VotingClassifier\n",
    "from sklearn.linear_model import LogisticRegression\n",
    "from sklearn.model_selection import StratifiedKFold, cross_val_score, train_test_split\n",
    "from sklearn.metrics import accuracy_score, confusion_matrix, roc_curve, auc\n",
    "from sklearn.datasets import make_classification\n",
    "from sklearn.metrics import RocCurveDisplay\n",
    "import numpy as np\n",
    "import matplotlib.pyplot as plt\n",
    "\n",
    "def train_ensemble_models(X_train, X_test, y_train, y_test):\n",
    "    # Define base models\n",
    "    rf_model = RandomForestClassifier(n_estimators=100, random_state=42)\n",
    "    gb_model = GradientBoostingClassifier(n_estimators=100, random_state=42)\n",
    "    logreg_model = LogisticRegression(random_state=42)\n",
    "\n",
    "    # Create an ensemble model using VotingClassifier\n",
    "    ensemble_model = VotingClassifier(estimators=[\n",
    "        ('rf', rf_model),\n",
    "        ('gb', gb_model),\n",
    "        ('logreg', logreg_model)\n",
    "    ], voting='hard')\n",
    "\n",
    "    # Fit the ensemble model\n",
    "    ensemble_model.fit(X_train, y_train)\n",
    "\n",
    "    # Cross-validation\n",
    "    cv = StratifiedKFold(n_splits=10, shuffle=True, random_state=42)\n",
    "    cv_results = cross_val_score(ensemble_model, X_train, y_train, cv=cv, scoring='accuracy')\n",
    "    print(f'Cross-Validation Accuracy (Ensemble): {np.mean(cv_results)}')\n",
    "\n",
    "    # Evaluate on the test set\n",
    "    y_pred = ensemble_model.predict(X_test)\n",
    "    acc = accuracy_score(y_test, y_pred)\n",
    "    print(f'Accuracy (Ensemble): {acc}')\n",
    "\n",
    "    # Confusion matrix\n",
    "    conf_matrix = confusion_matrix(y_test, y_pred)\n",
    "    print(f'Confusion Matrix (Ensemble):\\n{conf_matrix}\\n')\n",
    "\n",
    "\n",
    "\n",
    "# Call the function\n",
    "train_ensemble_models(X_train, X_test, y_train, y_test)\n"
   ]
  },
  {
   "cell_type": "code",
   "execution_count": null,
   "id": "3ee04922-3353-4a50-ae9a-847603d48c14",
   "metadata": {},
   "outputs": [],
   "source": []
  },
  {
   "cell_type": "markdown",
   "id": "a99ee841-67d8-4a46-83d7-51bd1b124a34",
   "metadata": {},
   "source": [
    "LOGISTIC REGRESSION"
   ]
  },
  {
   "cell_type": "code",
   "execution_count": 51,
   "id": "ec0126ee-a62f-48c6-8230-0b1b96002760",
   "metadata": {},
   "outputs": [
    {
     "name": "stdout",
     "output_type": "stream",
     "text": [
      "Best Parameters: {'C': 1}\n",
      "Best Accuracy: 0.8666666666666667\n"
     ]
    }
   ],
   "source": [
    "from sklearn.model_selection import GridSearchCV\n",
    "\n",
    "# Create a logistic regression model\n",
    "logreg_model = LogisticRegression(max_iter=2000)\n",
    "\n",
    "# Define the parameter grid\n",
    "param_grid = {'C': [10**-2, 1, 10**2]}\n",
    "\n",
    "# Use GridSearchCV to find the best hyperparameters\n",
    "grid_search = GridSearchCV(logreg_model, param_grid, cv=5)  # Adjust cv as needed\n",
    "grid_search.fit(X_train, y_train.ravel())\n",
    "\n",
    "# Get the best model and print results\n",
    "best_model = grid_search.best_estimator_\n",
    "best_accuracy = accuracy_score(y_test, best_model.predict(X_test))\n",
    "\n",
    "print(f'Best Parameters: {grid_search.best_params_}')\n",
    "print(f'Best Accuracy: {best_accuracy}')\n"
   ]
  },
  {
   "cell_type": "code",
   "execution_count": null,
   "id": "b47fd756-3f76-4f2a-8801-659cfd95e55f",
   "metadata": {},
   "outputs": [],
   "source": []
  },
  {
   "cell_type": "code",
   "execution_count": null,
   "id": "c04c3c3e-7eb2-4113-a957-14988f544f36",
   "metadata": {},
   "outputs": [],
   "source": []
  }
 ],
 "metadata": {
  "kernelspec": {
   "display_name": "My Python Environment",
   "language": "python",
   "name": "myenv"
  },
  "language_info": {
   "codemirror_mode": {
    "name": "ipython",
    "version": 3
   },
   "file_extension": ".py",
   "mimetype": "text/x-python",
   "name": "python",
   "nbconvert_exporter": "python",
   "pygments_lexer": "ipython3",
   "version": "3.10.11"
  }
 },
 "nbformat": 4,
 "nbformat_minor": 5
}
